{
  "nbformat": 4,
  "nbformat_minor": 0,
  "metadata": {
    "colab": {
      "name": "P1_IevadsColabNotebook.ipynb",
      "provenance": [],
      "collapsed_sections": [
        "EnEL-2eE2_D0",
        "KeKPAepl5S6n",
        "T7dttT9vAtXo",
        "zheoJwGrh-a8",
        "N-naBLbZzUUG",
        "qFqIdzWmA9io",
        "zDcorlyFB6Lr",
        "wIleGkdyvm2n",
        "e3BfDuzlwEoS"
      ],
      "include_colab_link": true
    },
    "kernelspec": {
      "name": "python3",
      "display_name": "Python 3"
    },
    "language_info": {
      "name": "python"
    }
  },
  "cells": [
    {
      "cell_type": "markdown",
      "metadata": {
        "id": "view-in-github",
        "colab_type": "text"
      },
      "source": [
        "<a href=\"https://colab.research.google.com/github/dpopoks/Advent-of-Code/blob/master/P1_IevadsColabNotebook.ipynb\" target=\"_parent\"><img src=\"https://colab.research.google.com/assets/colab-badge.svg\" alt=\"Open In Colab\"/></a>"
      ]
    },
    {
      "cell_type": "markdown",
      "metadata": {
        "id": "48sXZ_OKluV5"
      },
      "source": [
        "# Šodienas plāns:\n",
        "* Iepazīties ar Google Colabs vidi\n",
        "* Apskatīt iespējas iegūt datus un pievienot bibliotēkas\n",
        "* Datu formāti, to pārveidojumi un datu pieprasījumi\n",
        "* Veikt datu vizualizāciju\n",
        "* Izveidot vienkāršu datu analīzes modeli\n",
        "* Izveidot vēl kādu modeli\n",
        "* Pārrunāt radušos jautājumus"
      ]
    },
    {
      "cell_type": "markdown",
      "metadata": {
        "id": "EnEL-2eE2_D0"
      },
      "source": [
        "# Kādēļ Google Colabs?\n",
        "\n",
        "* Tas atbalsta pilnu Jupyter Notebooks funkcioanlitāti ar Python\n",
        "* Ir salīdzinoši viegli uzturēt katru no projektiņiem, jo Google rūpējas par bibliotēku un servera saimniecību\n",
        "* Ir viegli dalīties ar vienu un to pašu projektu\n",
        "* Salīdzinoši viegli nodot rezultātus trešajām pusēm\n",
        "\n",
        "---\n"
      ]
    },
    {
      "cell_type": "markdown",
      "metadata": {
        "id": "qKQQs-Ds4BBS"
      },
      "source": [
        "## Jupyter Notebooks\n",
        "\n",
        "* Atbalsta teksta, datu, attēlu un koda kombinēšanu vienotā atskaitē, kas ir **izpildāma**!\n",
        "* atbalsta teksta formatēšanu: **biezināts**, *slīpināts*\n",
        "* atbalsts sarežģītu formulu pierakstu:\n",
        "### $\\sum_{\\substack{i=[1,n]}} (Y_i - (\\beta _0 + \\beta _1X_i))^2$\n",
        "\n",
        "sīkāk par to: https://medium.com/analytics-vidhya/writing-math-equations-in-jupyter-notebook-a-naive-introduction-a5ce87b9a214\n",
        "\n",
        "* salīdzinoši viegli rezultātus nodot un komunicēt visām projekta iesaistītajām pusēm"
      ]
    },
    {
      "cell_type": "markdown",
      "metadata": {
        "id": "KeKPAepl5S6n"
      },
      "source": [
        "# Datu ielasīšana\n",
        "\n",
        "* Datus var ielasīt no Interneta\n",
        "* No sava Google diska\n",
        "* No sava lokālā diska\n",
        "\n",
        "---"
      ]
    },
    {
      "cell_type": "markdown",
      "metadata": {
        "id": "81DbJcaT7aup"
      },
      "source": [
        "## No Interneta\n",
        "\n",
        "---"
      ]
    },
    {
      "cell_type": "code",
      "metadata": {
        "id": "Uwqwasa_7bmn"
      },
      "source": [
        "url = \"http://www.randomservices.org/random/data/Galton.txt\""
      ],
      "execution_count": null,
      "outputs": []
    },
    {
      "cell_type": "code",
      "metadata": {
        "id": "yjJcJNbg7isF"
      },
      "source": [
        "import csv          #pip install csv - darbam ar CSV datu kopām\n",
        "import requests     #pip install requests  - vienkāšākam darbam ar tiešsaistes CSV datu kopām tiešsaistes\n",
        "import pandas as pd #pip install pandas - darbam ar datu kopām"
      ],
      "execution_count": null,
      "outputs": []
    },
    {
      "cell_type": "code",
      "metadata": {
        "id": "wDL_G5Fr7n_o"
      },
      "source": [
        "# avots:      https://pygot.wordpress.com/2017/03/25/simple-linear-regression-with-galton/ \n",
        "# EG:         http://chrisalbon.com/python/pandas_dataframe_importing_csv.html\n",
        "with requests.Session() as s:\n",
        "  download = s.get(url)\n",
        "  decoded_content = download.content.decode('utf-8')\n",
        " \n",
        "data_iter = csv.reader(decoded_content.splitlines(), delimiter='\\t')\n",
        "data = [data for data in data_iter]\n",
        " \n",
        "df = pd.DataFrame(data[1:])   # Izlaižam pirmo rindu\n",
        "df.columns = data[0]          # Pirmā rinda ir kolonnu nosaukumi\n",
        "\n",
        "print(df.head(5))            # izdrukā pirmos 5 ierakstu datu kopā\n",
        "print(\"\\n\", df.dtypes)        # Atspoguļo katras kolonnas datu tipu\n",
        "print(\"\\n\", df.describe())    # Atspoguļo galvenos rādītjus par katru no kolonnām"
      ],
      "execution_count": null,
      "outputs": []
    },
    {
      "cell_type": "code",
      "metadata": {
        "id": "4fMtrud1Kkg0"
      },
      "source": [
        "dfs = df[[\"Father\",\"Mother\",\"Height\",\"Kids\"]]\n",
        "\n",
        "dfn = dfs.astype('float')\n",
        "\n",
        "print(dfn.head(5))            # izdrukā pirmos 5 ierakstu datu kopā\n",
        "print(\"\\n\", dfn.dtypes)        # Atspoguļo katras kolonnas datu tipu\n",
        "print(\"\\n\", dfn.describe())    # Atspoguļo galvenos rādītjus par katru no kolonnām"
      ],
      "execution_count": null,
      "outputs": []
    },
    {
      "cell_type": "markdown",
      "metadata": {
        "id": "v2fMHfUo8ORQ"
      },
      "source": [
        "## No Google diska\n",
        "\n",
        "---"
      ]
    },
    {
      "cell_type": "code",
      "metadata": {
        "id": "SVTwXEkO8hzV"
      },
      "source": [
        "# Pieslēdzamies savam Google kontam\n",
        "\n",
        "from google.colab import drive\n",
        "\n",
        "drive.mount('/content/gdrive')"
      ],
      "execution_count": null,
      "outputs": []
    },
    {
      "cell_type": "code",
      "metadata": {
        "id": "DvNtgYJp-AOW"
      },
      "source": [
        "# Iegūstam diska saturu\n",
        "import os\n",
        "os.chdir(\"/content/gdrive/MyDrive/Colab Notebooks\")\n",
        "!ls"
      ],
      "execution_count": null,
      "outputs": []
    },
    {
      "cell_type": "markdown",
      "metadata": {
        "id": "cVaFBb9P_ilU"
      },
      "source": [
        "Ir iespējams izmantot visas tās pašas komandas, ko lokāla Jupyter Notebooks vai vienkārši bash vidē: ls, dir, pwd, cd, cat, echo, utt...."
      ]
    },
    {
      "cell_type": "code",
      "metadata": {
        "id": "RotKED-z_kE-"
      },
      "source": [
        "import pandas as pd\n",
        "# lasām datu failu ar īrisa ziedu datiem\n",
        "DfData = pd.read_csv('iris.csv',sep=',') \n",
        "\n",
        "#izvadām colonnu nosaukumus\n",
        "print(DfData.columns)\n",
        "\n",
        "#izvadām pirmos 5 ierakstus\n",
        "print(DfData.head())\n",
        "\n",
        "#pārliecināmies, ka dati ir tādi, kā gaidīts\n",
        "print(DfData.describe())"
      ],
      "execution_count": null,
      "outputs": []
    },
    {
      "cell_type": "markdown",
      "metadata": {
        "id": "T7dttT9vAtXo"
      },
      "source": [
        "## No lokālā diska\n",
        "\n",
        "---"
      ]
    },
    {
      "cell_type": "code",
      "metadata": {
        "id": "CN6nsSDxAyAi"
      },
      "source": [
        "Kreisajā augšējā stūrī ir iespēja augšuplādēt failus no jūsu lokālā diska"
      ],
      "execution_count": null,
      "outputs": []
    },
    {
      "cell_type": "markdown",
      "metadata": {
        "id": "zheoJwGrh-a8"
      },
      "source": [
        "# Datu formātu pārveidojumi"
      ]
    },
    {
      "cell_type": "markdown",
      "metadata": {
        "id": "MbhvHIGOoZxx"
      },
      "source": [
        "## JSON"
      ]
    },
    {
      "cell_type": "markdown",
      "metadata": {
        "id": "3J_jF3Y5uN4p"
      },
      "source": [
        "### Ielādējam Īrisa ziedu datu bāzi no JSON faila"
      ]
    },
    {
      "cell_type": "code",
      "metadata": {
        "id": "WMzfJuBmiFh1"
      },
      "source": [
        "import json           \n",
        "\n",
        "f = open('iris.json',)      # izveido faila-tipa (file like) objektu, kas norāda uz konkrētu failu\n",
        "df_json = json.load(f)      # ielasa json formāta datus json obejktā\n",
        "\n",
        "for i in range(1,5):        # iteratīvi tiek izdrukāti elementi no 1. līdz 5.\n",
        "  print(df_json[i])"
      ],
      "execution_count": null,
      "outputs": []
    },
    {
      "cell_type": "code",
      "metadata": {
        "id": "At1xyhi8ukaj"
      },
      "source": [
        "flowersample = df_json[3]             # Atsevišķam mainīgajam piešķir 3. elementa vērtību json objektā\n",
        "print(flowersample['sepalLength'])    # izdrukā 3. elementa 'sepallength' Kauslapas / ziedlapas garuma / platuma vērtību"
      ],
      "execution_count": null,
      "outputs": []
    },
    {
      "cell_type": "markdown",
      "metadata": {
        "id": "xZV8l2cjuZJg"
      },
      "source": [
        "### Ielādējam īrisa ziedu datu bāzi no json faila ar pandas līdzekļiem"
      ]
    },
    {
      "cell_type": "code",
      "metadata": {
        "id": "hv57MtvTnyX0"
      },
      "source": [
        "df_iris = pd.read_json('iris.json')\n",
        "\n",
        "#izvadām colonnu nosaukumus\n",
        "print(DfData.columns)\n",
        "#izvadām pirmos 5 ierakstus\n",
        "print(DfData.head())\n",
        "#pārliecināmies, ka dati ir tādi, kā gaidīts\n",
        "print(DfData.describe())"
      ],
      "execution_count": null,
      "outputs": []
    },
    {
      "cell_type": "markdown",
      "metadata": {
        "id": "hJ5okjZz0bKj"
      },
      "source": [
        "## Datu atlase ar Pandas līdzekļiem"
      ]
    },
    {
      "cell_type": "markdown",
      "metadata": {
        "id": "Zp2vfkoR2UBY"
      },
      "source": [
        "### Pandas \"Špikeris\"\n",
        "http://datacamp-community-prod.s3.amazonaws.com/f04456d7-8e61-482f-9cc9-da6f7f25fc9b"
      ]
    },
    {
      "cell_type": "markdown",
      "metadata": {
        "id": "WXLluQZEV8yk"
      },
      "source": [
        "### Datu kopas kopīgā informācija"
      ]
    },
    {
      "cell_type": "code",
      "metadata": {
        "id": "s_88NUel0hCs"
      },
      "source": [
        "# Pārliecināmies, ka dati ir tādi, kā gaidīts\n",
        "print(DfData.describe())\n",
        "\n",
        "# Atsevišķas kolonnas agregācijas iegūšana\n",
        "print(\"\\nMax. vērtība Kauslapas garumam : \", DfData['Sepal.Length'].max())"
      ],
      "execution_count": null,
      "outputs": []
    },
    {
      "cell_type": "code",
      "metadata": {
        "id": "VsJLkZSuV5eo"
      },
      "source": [
        "# Datu kopas rindu un kolonnu skaits\n",
        "print(DfData.shape)"
      ],
      "execution_count": null,
      "outputs": []
    },
    {
      "cell_type": "code",
      "metadata": {
        "id": "hflsFOugWbSr"
      },
      "source": [
        "# Datu kopas kolonnu nosaukumi\n",
        "print(DfData.columns)"
      ],
      "execution_count": null,
      "outputs": []
    },
    {
      "cell_type": "markdown",
      "metadata": {
        "id": "dDesRyDLWB4u"
      },
      "source": [
        "### Datu atlase un kārtošana"
      ]
    },
    {
      "cell_type": "code",
      "metadata": {
        "id": "KVAxeFLs2HFr"
      },
      "source": [
        "# Atlasām ierakstus pēc to kārtas numura (50. - 55. rindiņu)\n",
        "print(DfData[50 : 56])"
      ],
      "execution_count": null,
      "outputs": []
    },
    {
      "cell_type": "code",
      "metadata": {
        "id": "TxGbxt0R2tZy"
      },
      "source": [
        "# Atlasīto datu kārtošana\n",
        "print(DfData[50 : 56].sort_values(by = 'Sepal.Length'))"
      ],
      "execution_count": null,
      "outputs": []
    },
    {
      "cell_type": "code",
      "metadata": {
        "id": "vZ3tQ0j_35eR"
      },
      "source": [
        "# Iegūstam konkrētu vērtību pēc rindas un kolonnas indeksa\n",
        "print(DfData[50 : 56].iloc[[2],[2]])"
      ],
      "execution_count": null,
      "outputs": []
    },
    {
      "cell_type": "code",
      "metadata": {
        "id": "-nKJHDICYMxT"
      },
      "source": [
        "# Vērtību filtrēšana pēc nosacījuma: ierakstu kopsavilkums, kur ziedlapas platums ir lielāks par 1,5\n",
        "print(DfData[DfData['Petal.Width'] > 1.5].describe())\n"
      ],
      "execution_count": null,
      "outputs": []
    },
    {
      "cell_type": "code",
      "metadata": {
        "id": "tJGiOQE1ZQ1M"
      },
      "source": [
        "# Funkcijas piemērošana \n",
        "\n",
        "funkcija = lambda x : x + 100\n",
        "\n",
        "df_new = DfData[['Petal.Width', 'Petal.Length']].apply(funkcija)\n",
        "\n",
        "print(df_new.describe())"
      ],
      "execution_count": null,
      "outputs": []
    },
    {
      "cell_type": "markdown",
      "source": [
        "# Funkcijas"
      ],
      "metadata": {
        "id": "N-naBLbZzUUG"
      }
    },
    {
      "cell_type": "code",
      "source": [
        "# funkcija(p,p2,.....)\n",
        "\n",
        "# []\n",
        "\n",
        "# {}\n",
        "\n",
        "def funckija_value():\n",
        "  print('sveiks')\n",
        "\n",
        "  return 'sveiks arī šeit'\n",
        "\n",
        "def funkcija_list():\n",
        "  print('sveiks')\n",
        "\n",
        "  return ['pirmais elements','otrs elements']\n",
        "\n",
        "def funkcija_dictionary():\n",
        "  print('sveiks')\n",
        "\n",
        "  return {\"atslega1\" : 45, \"atslega2\" : \"vērtība 2\", \"atsleg3\" : ['pirmais elements','otrs elements']}"
      ],
      "metadata": {
        "id": "8BFUNrtLzbuH"
      },
      "execution_count": null,
      "outputs": []
    },
    {
      "cell_type": "code",
      "source": [
        "funckija_value()"
      ],
      "metadata": {
        "id": "umLuWEO00Bmq"
      },
      "execution_count": null,
      "outputs": []
    },
    {
      "cell_type": "code",
      "source": [
        "funkcija_list()"
      ],
      "metadata": {
        "id": "C2BSKMuw0Gm9"
      },
      "execution_count": null,
      "outputs": []
    },
    {
      "cell_type": "code",
      "source": [
        "funkcija_dictionary()"
      ],
      "metadata": {
        "id": "Yzq_XDfv0d3y"
      },
      "execution_count": null,
      "outputs": []
    },
    {
      "cell_type": "code",
      "source": [
        "rez = funkcija_dictionary()"
      ],
      "metadata": {
        "id": "pUmCjqJzznBD"
      },
      "execution_count": null,
      "outputs": []
    },
    {
      "cell_type": "code",
      "source": [
        "print(rez[1])"
      ],
      "metadata": {
        "id": "t3RyqcDszoiu"
      },
      "execution_count": null,
      "outputs": []
    },
    {
      "cell_type": "code",
      "source": [
        "print(rez['atsleg3'][1])"
      ],
      "metadata": {
        "id": "CxFEksE2zoXU"
      },
      "execution_count": null,
      "outputs": []
    },
    {
      "cell_type": "markdown",
      "metadata": {
        "id": "qFqIdzWmA9io"
      },
      "source": [
        "# Bibliotēku pievienošana\n",
        "\n",
        "---"
      ]
    },
    {
      "cell_type": "code",
      "metadata": {
        "id": "vdQGrzaxBSap"
      },
      "source": [
        "!pip install tslearn"
      ],
      "execution_count": null,
      "outputs": []
    },
    {
      "cell_type": "markdown",
      "metadata": {
        "id": "zDcorlyFB6Lr"
      },
      "source": [
        "# Datu vizualizācija\n",
        "\n",
        "---"
      ]
    },
    {
      "cell_type": "markdown",
      "metadata": {
        "id": "FtHfmP9nB9rT"
      },
      "source": [
        "## Izmantojot Pandas"
      ]
    },
    {
      "cell_type": "code",
      "metadata": {
        "id": "17CLGDM4Lb3j"
      },
      "source": [
        "dfn.plot()"
      ],
      "execution_count": null,
      "outputs": []
    },
    {
      "cell_type": "code",
      "metadata": {
        "id": "CSbXbIlNB-jQ"
      },
      "source": [
        "dfn.hist()"
      ],
      "execution_count": null,
      "outputs": []
    },
    {
      "cell_type": "markdown",
      "metadata": {
        "id": "6iMZMzLQK4ic"
      },
      "source": [
        "## Izmantojot PyPlot"
      ]
    },
    {
      "cell_type": "code",
      "metadata": {
        "id": "hgt0A8WOK6pr"
      },
      "source": [
        "import matplotlib\n",
        "import matplotlib.pyplot as plt\n",
        "matplotlib.style.use('ggplot')\n",
        "\n",
        "plt.figure(1, (10,8))                         # Tiek viedots viens attēls ar izmēru 10 x 8 \n",
        "plt.subplot(2,2,1)                            # Tiek izveidots attēlu matrica 2 x 2, indekss sākas ar 1 kreisajā augšējā stūrī \n",
        "plt.hist(dfn['Father'], color = ['royalblue'])   # Tēvu augumu histogramma un krāsa\n",
        "plt.axis([60,80,0,300])                       # Tiek noteiks koordinātu asu iedaļas\n",
        "\n",
        "plt.subplot(2,2,3)                            # Izveido nākošo attēlu matricā ar indeksu 3       \n",
        "plt.scatter(dfn['Father'],dfn['Height'], color = 'royalblue')        # Bērnu auguma atkarība no Tēvu augumiem \n",
        "plt.axis([60,80,55,80])                       # Tiek noteiks koordinātu asu iedaļas\n",
        "plt.xlabel(\"Tēvu augumi - collās\")            # X ass nosaukums\n",
        "plt.ylabel(\"Bērnu augumi - collās\")           # Y ass nosaukums\n",
        "\n",
        "plt.subplot(2,2,4)                            # Tiek izveidots attēlu matrica 2 x 2, indekss sākas ar 1 kreisajā augšējā stūrī \n",
        "plt.hist(dfn['Height'],orientation='horizontal', color = 'royalblue')   # Bērnu augumu histogramma un krāsa\n",
        "\n",
        "plt.show()"
      ],
      "execution_count": null,
      "outputs": []
    },
    {
      "cell_type": "markdown",
      "metadata": {
        "id": "Lap0kOetg4t9"
      },
      "source": [
        "## Izmantojot SeaBorn"
      ]
    },
    {
      "cell_type": "code",
      "metadata": {
        "id": "97GYCbszg-lX"
      },
      "source": [
        "import seaborn as sns\n",
        "import matplotlib.pyplot as plt\n",
        "#Izveidojam faktoru pāru grafiku, norādot tā kopējo izmēru  un krāsu shēmu\n",
        "\n",
        "Bilde = sns.pairplot(DfData,hue='Species',palette=\"muted\",height=3,vars=['Sepal.Width','Sepal.Length','Petal.Length','Petal.Width'],kind='scatter')\n",
        "\n",
        "# Papildus atstarpe, lai virsraksts tiktu attēlot pareizi\n",
        "plt.subplots_adjust(top=0.9)\n",
        "\n",
        "#set the title of the graph\n",
        "Bilde.fig.suptitle('Īrisa ziedu faktoru attieksmes',fontsize=25,color='b',alpha=0.5)"
      ],
      "execution_count": null,
      "outputs": []
    },
    {
      "cell_type": "code",
      "metadata": {
        "id": "hcCQb9sjhlrL"
      },
      "source": [
        "Bilde = sns.jointplot(x='Sepal.Width', y='Petal.Width', data=DfData, size=8, alpha=.6,color='b', marker='X')\n",
        "\n",
        "# Papildus atstarpe, lai virsraksts tiktu attēlot pareizi\n",
        "plt.subplots_adjust(top=0.9)\n",
        "\n",
        "Bilde.fig.suptitle('Kauslapu un ziedlapu attieksmes',fontsize=25,color='b',alpha=0.5)"
      ],
      "execution_count": null,
      "outputs": []
    },
    {
      "cell_type": "code",
      "metadata": {
        "id": "VF6QWMBIhpIP"
      },
      "source": [
        "Bilde = sns.violinplot(x='Species',y='Sepal.Length',data=DfData)"
      ],
      "execution_count": null,
      "outputs": []
    },
    {
      "cell_type": "code",
      "metadata": {
        "id": "8-aIEqtUhtap"
      },
      "source": [
        "Bilde = sns.violinplot(x='Species',y='Sepal.Width',data=DfData)"
      ],
      "execution_count": null,
      "outputs": []
    },
    {
      "cell_type": "markdown",
      "metadata": {
        "id": "wIleGkdyvm2n"
      },
      "source": [
        "# Vienkārši lineāri modeļi\n",
        "\n",
        "---\n",
        "\n",
        "Vieta kur sākt ir : https://scikit-learn.org/stable/"
      ]
    },
    {
      "cell_type": "code",
      "metadata": {
        "id": "VxLefo7Avty6"
      },
      "source": [
        "import numpy as np\n",
        "from sklearn import linear_model  #pip install sklearn - loti plasa masinapmacibas biblioteka\n",
        "from sklearn.linear_model import LinearRegression  \n",
        "\n",
        "print('============== Lineāra regresijas modeļa rezultāts ================ \\n')\n",
        "x = df['Father'].to_numpy()                     # Iegūstam x \n",
        "y = df['Height'].to_numpy()                     # Iegūstam y\n",
        "X = x[:,np.newaxis]                             # x asij pievieno vēl vienu tukšu vērtību\n",
        "model = LinearRegression(fit_intercept=True)    # regresijas modeļa inicializācija\n",
        "model.fit(X,y)                                  # regresijas modeļa iegūšana\n",
        "print('Coefficient: \\n', model.coef_)           # Beta 1 idruka\n",
        "print('Intercept: \\n', model.intercept_)        # Beta 0 izdruka"
      ],
      "execution_count": null,
      "outputs": []
    },
    {
      "cell_type": "markdown",
      "metadata": {
        "id": "e3BfDuzlwEoS"
      },
      "source": [
        "# Klasifikācija - lēmumu koki\n",
        "\n",
        "---\n",
        "\n",
        "Vieta kur sākt ir : https://scikit-learn.org/stable/"
      ]
    },
    {
      "cell_type": "code",
      "metadata": {
        "id": "bE4yRmX4wFm-"
      },
      "source": [
        "from sklearn.model_selection import train_test_split\n",
        "\n",
        "training_frac = 0.7\n",
        "\n",
        "# iegūstam klases, kas tiks klasificētas piemērā\n",
        "Classes = DfData.Species.unique()\n",
        "\n",
        "# unikālās klases\n",
        "print(\"Klašu vērtības\", Classes)\n",
        "print()\n",
        "\n",
        "#Klašu kodēšana\n",
        "from sklearn import preprocessing\n",
        "le = preprocessing.LabelEncoder()\n",
        "le.fit(DfData['Species'])\n",
        "print(le.classes_)"
      ],
      "execution_count": null,
      "outputs": []
    },
    {
      "cell_type": "code",
      "metadata": {
        "id": "RM_wlooUwJYi"
      },
      "source": [
        "# atlasām tikai faktoru kolonnas, klases kolonna nav vajadzīga\n",
        "Sample = DfData[['Sepal.Length', 'Sepal.Width', 'Petal.Length', 'Petal.Width']].to_numpy()\n",
        "\n",
        "#atlasām klases kolonnu\n",
        "y = le.transform(DfData['Species'])\n",
        "\n",
        "print(y)"
      ],
      "execution_count": null,
      "outputs": []
    },
    {
      "cell_type": "code",
      "metadata": {
        "id": "FIu1VqsCwOkx"
      },
      "source": [
        "# pielietojam transformāciju\n",
        "\n",
        "y = le.transform(DfData['Species'])\n",
        "\n",
        "# tiek veikta datu kopas sadalīšana testa un apmācības kopā, izmantojot nejaušu sadalījumu ar attecību 70 : 30\n",
        "\n",
        "X_train, X_test, y_train, y_test = train_test_split(Sample, y, test_size=1.0 - training_frac, random_state=42)\n",
        "\n",
        "print('Done .........')"
      ],
      "execution_count": null,
      "outputs": []
    },
    {
      "cell_type": "code",
      "metadata": {
        "id": "o9g-dXkjwSLc"
      },
      "source": [
        "from sklearn import tree\n",
        "from sklearn.tree import DecisionTreeClassifier\n",
        "from sklearn.tree import export_text\n",
        "\n",
        "# izveidojam koka instanci\n",
        "clf = DecisionTreeClassifier(random_state=0)\n",
        "\n",
        "#veicam koka apmācību\n",
        "clf = clf.fit(X_train, y_train)\n",
        "\n",
        "#pamata datu izvade par koku\n",
        "print(\"Leaves: \" + str(clf.get_n_leaves()))\n",
        "print(\"Tree depth: \" + str(clf.get_depth()))\n",
        "print(\"Done......\")"
      ],
      "execution_count": null,
      "outputs": []
    },
    {
      "cell_type": "code",
      "metadata": {
        "id": "oOUP77D0wXBw"
      },
      "source": [
        "import matplotlib.pyplot as plt\n",
        "\n",
        "plt.figure(figsize = (16,12))\n",
        "tree.plot_tree(clf, filled = True, rounded = True) \n",
        "\n",
        "plt.show()"
      ],
      "execution_count": null,
      "outputs": []
    },
    {
      "cell_type": "markdown",
      "metadata": {
        "id": "dsBl1kgSbdzj"
      },
      "source": [
        "# Patstāvīgais uzdevums\n",
        "\n",
        "1) Jāiegūst datu kopa no avota: **Temperatures.csv**\n",
        "\n",
        "2) Jāpārveido datu kopas skaitliskās kolonnas skaitļa formātā pretēji ielasītajam *Object* vai *String* (ja tādas ir)\n",
        "\n",
        "3) Atlasīt interesējošās kolonnas, kas satur tikai skaitliskas vērtības\n",
        "\n",
        "4) Atlasīt Sensoru 924A un 920C datus bez laika markām\n",
        "\n",
        "5) Veikt datu vizualizāciju vismaz divos veidos (divi dažāda tipa grafiki)\n",
        "\n",
        "6) No sensora 924A atlasīt vērtības, kas pārsniedz 5.0 grādus. Cik šādu gadījumu ir novērojumu vēsturē?\n",
        "\n",
        "7) Pēc izvēles sameklēt kādu citu datu kopu, piemēram no avota: https://www.epa.gov/outdoor-air-quality-data/download-daily-data\n",
        "\n",
        "8) Veikt datu vizualizāciju izvēlētajam gaisa kvalitātes rādītājam, piemēram, piesārņojuma datiem PPM 2.5\n",
        "\n",
        "\n",
        "### Vienmēr palīdz StackOverflow vai GeeksForGeeks tipa vietnes, kā arī bibliotēku apraksti un piemēri"
      ]
    }
  ]
}